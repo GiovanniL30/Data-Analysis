{
 "cells": [
  {
   "cell_type": "code",
   "execution_count": 5,
   "metadata": {},
   "outputs": [],
   "source": [
    "import pandas as pd\n",
    "import matplotlib.pyplot as plt\n",
    "\n",
    "#Read CSV\n",
    "df = pd.read_csv('job_posting_clean.csv')"
   ]
  },
  {
   "cell_type": "markdown",
   "metadata": {},
   "source": [
    "# Which locations offer the highest-paying jobs?"
   ]
  },
  {
   "cell_type": "code",
   "execution_count": null,
   "metadata": {},
   "outputs": [],
   "source": [
    "# Group by location and find the average max salary\n",
    "location_salary = df.groupby(\"location\")[\"max_salary\"].mean().reset_index()\n",
    "\n",
    "# Sort by max_salary in descending order\n",
    "highest_paying_locations = location_salary.sort_values(by=\"max_salary\", ascending=False).head(10)\n",
    "\n",
    "# Plot salary distribution by location\n",
    "plt.figure(figsize=(10, 6))\n",
    "plt.barh(highest_paying_locations[\"location\"], highest_paying_locations[\"max_salary\"], color=\"royalblue\")\n",
    "plt.xlabel(\"Average Max Salary (USD)\")\n",
    "plt.ylabel(\"Location\")\n",
    "plt.title(\"Top 10 Locations Offering the Highest-Paying Jobs\")\n",
    "plt.gca().invert_yaxis()  \n",
    "plt.grid(axis='x', linestyle='--', alpha=0.7)\n",
    "\n",
    "\n",
    "plt.show()"
   ]
  },
  {
   "cell_type": "markdown",
   "metadata": {},
   "source": [
    "Do remote jobs pay more or less than on-site jobs?"
   ]
  },
  {
   "cell_type": "code",
   "execution_count": null,
   "metadata": {},
   "outputs": [],
   "source": [
    "# Categorize jobs into Remote and On-Site\n",
    "df[\"job_type\"] = df[\"remote_allowed\"].apply(lambda x: \"Remote\" if x == 1 else \"On-Site\")\n",
    "\n",
    "# Compute average median salary for Remote vs. On-Site jobs\n",
    "salary_comparison = df.groupby(\"job_type\")[\"med_salary\"].mean()\n",
    "\n",
    "# Plot pie chart\n",
    "plt.figure(figsize=(7, 7))\n",
    "colors = [\"royalblue\", \"orange\"]\n",
    "salary_comparison.plot(kind=\"pie\", autopct=\"%1.1f%%\", colors=colors, startangle=140)\n",
    "\n",
    "plt.ylabel(\"\")  \n",
    "plt.title(\"Salary Distribution: Remote vs. On-Site Jobs\")\n",
    "\n",
    "\n",
    "plt.show()"
   ]
  },
  {
   "cell_type": "markdown",
   "metadata": {},
   "source": [
    "How do salaries differ across experience levels?"
   ]
  },
  {
   "cell_type": "code",
   "execution_count": null,
   "metadata": {},
   "outputs": [],
   "source": [
    "# Group by experience level and calculate the average median salary\n",
    "experience_salary = df.groupby(\"formatted_experience_level\")[\"med_salary\"].mean().reset_index()\n",
    "\n",
    "# Sort experience levels for better visualization\n",
    "experience_salary = experience_salary.sort_values(by=\"med_salary\", ascending=False)\n",
    "\n",
    "# Plot salary distribution by experience level\n",
    "plt.figure(figsize=(10, 6))\n",
    "plt.barh(experience_salary[\"formatted_experience_level\"], experience_salary[\"med_salary\"], color=\"seagreen\")\n",
    "plt.xlabel(\"Average Median Salary (USD)\")\n",
    "plt.ylabel(\"Experience Level\")\n",
    "plt.title(\"Salary Differences Across Experience Levels\")\n",
    "plt.gca().invert_yaxis() \n",
    "plt.grid(axis='x', linestyle='--', alpha=0.7)\n",
    "\n",
    "# Show the plot\n",
    "plt.show()"
   ]
  }
 ],
 "metadata": {
  "kernelspec": {
   "display_name": "Python 3",
   "language": "python",
   "name": "python3"
  },
  "language_info": {
   "codemirror_mode": {
    "name": "ipython",
    "version": 3
   },
   "file_extension": ".py",
   "mimetype": "text/x-python",
   "name": "python",
   "nbconvert_exporter": "python",
   "pygments_lexer": "ipython3",
   "version": "3.13.1"
  }
 },
 "nbformat": 4,
 "nbformat_minor": 2
}
