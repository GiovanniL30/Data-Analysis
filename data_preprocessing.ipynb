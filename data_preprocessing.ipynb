{
 "cells": [
  {
   "cell_type": "code",
   "execution_count": null,
   "metadata": {},
   "outputs": [],
   "source": [
    "import pandas as pd\n",
    "\n",
    "df = pd.read_csv('job_postings.csv')\n",
    "\n",
    "# Removing duplicates\n",
    "df.drop_duplicates(subset=['job_id'], inplace=True)\n",
    "\n",
    "# Dropping rows with missing critical data\n",
    "df.dropna(subset=['max_salary', 'min_salary', 'job_id', 'company_id'], inplace=True)\n",
    "df.dropna(subset=['formatted_experience_level'], inplace=True)\n",
    "\n",
    "# Dropping unnecessary columns\n",
    "df.drop(['job_posting_url', 'description', 'application_url', 'posting_domain', 'sponsored', \n",
    "         'compensation_type', 'scraped', 'closed_time', 'skills_desc'], axis=1, inplace=True)\n",
    "\n",
    "# Filling missing data for non-critical columns\n",
    "df['remote_allowed'] = df['remote_allowed'].fillna(0)\n",
    "df['views'] = df['views'].fillna(0)\n",
    "df['med_salary'] = df['med_salary'].fillna((df['min_salary'] + df['max_salary']) / 2)\n",
    "df['applies'] = df['applies'].fillna(0)\n",
    "\n",
    "# Converting Unix timestamps to datetime format\n",
    "df['original_listed_time'] = pd.to_datetime(df['original_listed_time'], unit='ms')\n",
    "df['listed_time'] = pd.to_datetime(df['listed_time'], unit='ms')\n",
    "df['expiry'] = pd.to_datetime(df['expiry'], unit='ms')\n",
    "\n",
    "# Saving cleaned data\n",
    "df.to_csv('clean.csv', index=False)"
   ]
  }
 ],
 "metadata": {
  "kernelspec": {
   "display_name": "Python 3",
   "language": "python",
   "name": "python3"
  },
  "language_info": {
   "codemirror_mode": {
    "name": "ipython",
    "version": 3
   },
   "file_extension": ".py",
   "mimetype": "text/x-python",
   "name": "python",
   "nbconvert_exporter": "python",
   "pygments_lexer": "ipython3",
   "version": "3.13.1"
  }
 },
 "nbformat": 4,
 "nbformat_minor": 2
}
