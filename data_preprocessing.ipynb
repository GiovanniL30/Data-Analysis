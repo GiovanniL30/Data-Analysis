{
 "cells": [
  {
   "cell_type": "markdown",
   "metadata": {},
   "source": [
    "# Cleaning of the raw csv file for processing"
   ]
  },
  {
   "cell_type": "code",
   "execution_count": 93,
   "metadata": {},
   "outputs": [],
   "source": [
    "import pandas as pd\n",
    "\n",
    "# Load the CSV file\n",
    "df = pd.read_csv(\"job_postings_raw.csv\")\n",
    "\n",
    "\n",
    "# Dropping rows with missing critical data\n",
    "df.dropna(subset=['job_id', 'company_id'], inplace=True)\n",
    "df.dropna(subset=[\"med_salary\", \"max_salary\", \"min_salary\"], how=\"all\", inplace=True)\n",
    "\n",
    "# Dropping unnecessary columns\n",
    "df.drop(['job_posting_url', 'description', 'application_url', 'posting_domain', 'sponsored', \n",
    "         'compensation_type', 'scraped', 'closed_time', 'skills_desc'], axis=1, inplace=True)\n",
    "\n",
    "\n",
    "def convert_to_yearly(row):\n",
    "    salary = row[\"med_salary\"] if pd.notna(row[\"med_salary\"]) else (row[\"max_salary\"] + row[\"min_salary\"]) / 2\n",
    "    pay_period = row[\"pay_period\"]\n",
    "    work_type = row[\"formatted_work_type\"]\n",
    "    \n",
    "    if pay_period == \"HOURLY\":\n",
    "        if work_type == \"Full-time\":\n",
    "            return salary * 8 * 5 * 50  # 8 hours/day, 5 days/week, 50 weeks/year\n",
    "        elif work_type == \"Part-time\":\n",
    "            return salary * 5 * 5 * 50  # 5 hours/day, 5 days/week, 50 weeks/year\n",
    "        else:\n",
    "            return salary * 8 * 5 * 50  \n",
    "\n",
    "    elif pay_period == \"WEEKLY\":\n",
    "        return salary * 52  # Default weekly conversion\n",
    "\n",
    "    elif pay_period == \"MONTHLY\":\n",
    "        return salary * 12  # Standard conversion for monthly salaries\n",
    "\n",
    "    elif pay_period == \"ONCE\":\n",
    "        return salary  # One-time payment, no conversion\n",
    "\n",
    "    elif pay_period == \"YEARLY\":\n",
    "        return salary  # Already in yearly format\n",
    "\n",
    "    return None  # If no valid pay period\n",
    "\n",
    "# Apply conversion function to the DataFrame\n",
    "df[\"yearly_med_salary\"] = df.apply(convert_to_yearly, axis=1)\n",
    "df = df[df['yearly_med_salary'].notna()]\n",
    "df.drop(['max_salary', 'med_salary', 'min_salary'], axis=1, inplace=True)\n",
    "df[\"pay_period\"] = \"YEARLY\"\n",
    "\n",
    "# Filling missing data for non-critical columns\n",
    "df['formatted_experience_level'] = df['formatted_experience_level'].fillna(\"Not Mentioned\")\n",
    "df['remote_allowed'] = df['remote_allowed'].fillna(0)\n",
    "df['views'] = df['views'].fillna(0)\n",
    "df['applies'] = df['applies'].fillna(0)\n",
    "\n",
    "# Converting Unix timestamps to datetime format\n",
    "df['original_listed_time'] = pd.to_datetime(df['original_listed_time'], unit='ms')\n",
    "df['listed_time'] = pd.to_datetime(df['listed_time'], unit='ms')\n",
    "df['expiry'] = pd.to_datetime(df['expiry'], unit='ms')\n",
    "\n",
    "\n",
    "#Handling of outliers\n",
    "Q1 = df['yearly_med_salary'].quantile(0.25)\n",
    "Q3 = df['yearly_med_salary'].quantile(0.75)\n",
    "IQR = Q3 - Q1\n",
    "df = df[(df['yearly_med_salary'] >= Q1 - 1.5 * IQR) & (df['yearly_med_salary'] <= Q3 + 1.5 * IQR)]\n",
    "\n",
    "# Save the processed data\n",
    "df.to_csv(\"job_posting_clean.csv\", index=False)"
   ]
  }
 ],
 "metadata": {
  "kernelspec": {
   "display_name": "Python 3",
   "language": "python",
   "name": "python3"
  },
  "language_info": {
   "codemirror_mode": {
    "name": "ipython",
    "version": 3
   },
   "file_extension": ".py",
   "mimetype": "text/x-python",
   "name": "python",
   "nbconvert_exporter": "python",
   "pygments_lexer": "ipython3",
   "version": "3.13.1"
  }
 },
 "nbformat": 4,
 "nbformat_minor": 2
}
