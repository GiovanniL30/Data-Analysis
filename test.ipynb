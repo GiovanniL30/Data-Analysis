{
 "cells": [
  {
   "cell_type": "code",
   "execution_count": 5,
   "metadata": {},
   "outputs": [],
   "source": [
    "import pandas as pd\n",
    "\n",
    "\n",
    "df = pd.read_csv('job_posting_clean.csv')"
   ]
  },
  {
   "cell_type": "code",
   "execution_count": null,
   "metadata": {},
   "outputs": [
    {
     "name": "stdout",
     "output_type": "stream",
     "text": [
      "Number of unique company_id values: 3042\n",
      "Duplicate company_id values: [2.5017205e+07 9.6670000e+03 2.0875000e+04 ... 6.7650000e+03 2.5674400e+05\n",
      " 1.2109100e+05]\n"
     ]
    }
   ],
   "source": [
    "\n",
    "\n",
    "duplicates = df['company_id'].duplicated(keep=False) \n",
    "duplicate_values = Min(df.loc[duplicates, 'company_id'].unique(), 0)\n",
    "print(f\"Duplicate company_id values: {duplicate_values}\")"
   ]
  }
 ],
 "metadata": {
  "kernelspec": {
   "display_name": "Python 3",
   "language": "python",
   "name": "python3"
  },
  "language_info": {
   "codemirror_mode": {
    "name": "ipython",
    "version": 3
   },
   "file_extension": ".py",
   "mimetype": "text/x-python",
   "name": "python",
   "nbconvert_exporter": "python",
   "pygments_lexer": "ipython3",
   "version": "3.13.1"
  }
 },
 "nbformat": 4,
 "nbformat_minor": 2
}
